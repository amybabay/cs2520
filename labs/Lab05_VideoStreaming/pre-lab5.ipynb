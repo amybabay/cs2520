{
 "cells": [
  {
   "cell_type": "markdown",
   "id": "a6aa40c7-2514-440c-9ddd-a3ea647f7aef",
   "metadata": {},
   "source": [
    "# Pre-Lab 5: Adaptive Video Streaming"
   ]
  },
  {
   "cell_type": "markdown",
   "id": "1558a403-7e82-4d21-9139-f3c08e3a34c6",
   "metadata": {},
   "source": [
    "## Reserve resources on FABRIC\n",
    "\n",
    "In this section, we’ll reserve and configure resources on the FABRIC testbed."
   ]
  },
  {
   "cell_type": "markdown",
   "id": "a95e38bc-4f4e-4651-ba88-026b358c4cd3",
   "metadata": {},
   "source": [
    "### Configure environment"
   ]
  },
  {
   "cell_type": "code",
   "execution_count": null,
   "id": "b0281ecc-a3e4-467e-8db1-fe974fd975c1",
   "metadata": {},
   "outputs": [],
   "source": [
    "from fabrictestbed_extensions.fablib.fablib import FablibManager as fablib_manager\n",
    "fablib = fablib_manager() \n",
    "conf = fablib.show_config()"
   ]
  },
  {
   "cell_type": "markdown",
   "id": "b01b9d79-e003-49f6-9c6e-a728c53b99d5",
   "metadata": {},
   "source": [
    "### Define FABRIC configuration for adaptive video experiment"
   ]
  },
  {
   "cell_type": "code",
   "execution_count": null,
   "id": "f38e5171-e8ff-44fd-a775-2faf279cd454",
   "metadata": {},
   "outputs": [],
   "source": [
    "slice_name=\"video-streaming-lab\" + fablib.get_bastion_username()\n",
    "\n",
    "node_conf = [\n",
    " {'name': \"romeo\",   'cores': 2, 'ram': 4, 'disk': 10, 'image': 'default_ubuntu_20', 'packages': ['net-tools', 'iperf3', 'moreutils', 'python3', 'ffmpeg']}, \n",
    " {'name': \"juliet\",  'cores': 2, 'ram': 4, 'disk': 10, 'image': 'default_ubuntu_20', 'packages': ['net-tools', 'iperf3', 'moreutils', 'apache2']}, \n",
    " {'name': \"router\",  'cores': 2, 'ram': 4, 'disk': 10, 'image': 'default_ubuntu_20', 'packages': ['net-tools', 'unrar-free']}\n",
    "]\n",
    "net_conf = [\n",
    " {\"name\": \"net_r\", \"subnet\": \"10.10.1.0/24\", \"nodes\": [{\"name\": \"romeo\",  \"addr\": \"10.10.1.100\"}, {\"name\": \"router\", \"addr\": \"10.10.1.10\"}]},\n",
    " {\"name\": \"net_j\", \"subnet\": \"10.10.2.0/24\", \"nodes\": [{\"name\": \"juliet\", \"addr\": \"10.10.2.100\"}, {\"name\": \"router\", \"addr\": \"10.10.2.10\"}]},\n",
    "]\n",
    "route_conf = [\n",
    " {\"addr\": \"10.10.1.0/24\", \"gw\": \"10.10.2.10\", \"nodes\": [\"juliet\"]}, \n",
    " {\"addr\": \"10.10.2.0/24\", \"gw\": \"10.10.1.10\", \"nodes\": [\"romeo\"]}\n",
    "]\n",
    "exp_conf = {'cores': sum([ n['cores'] for n in node_conf]), 'nic': sum([len(n['nodes']) for n in net_conf]) }"
   ]
  },
  {
   "cell_type": "markdown",
   "id": "b55112cc-7aad-49bc-823e-d536fc8e4331",
   "metadata": {},
   "source": [
    "### Reserve resources\n",
    "\n",
    "Now, we are ready to reserve resources!"
   ]
  },
  {
   "cell_type": "markdown",
   "id": "759e6287-ef43-448c-a063-53ea7b4e948a",
   "metadata": {},
   "source": [
    "First, make sure you don’t already have a slice with this name:"
   ]
  },
  {
   "cell_type": "code",
   "execution_count": null,
   "id": "55ab8ee4-d4ab-44c2-b5a4-6bf3cf58b9b1",
   "metadata": {},
   "outputs": [],
   "source": [
    "try:\n",
    "    slice = fablib.get_slice(slice_name)\n",
    "    print(\"You already have a slice by this name!\")\n",
    "    print(\"If you previously reserved resources, skip to the 'log in to resources' section.\")\n",
    "except:\n",
    "    print(\"You don't have a slice named %s yet.\" % slice_name)\n",
    "    print(\"Continue to the next step to make one.\")\n",
    "    slice = fablib.new_slice(name=slice_name)"
   ]
  },
  {
   "cell_type": "markdown",
   "id": "260afb5f-79c5-47e1-89ef-6220a990b1a7",
   "metadata": {},
   "source": [
    "We will select a random site that has sufficient resources for our experiment:"
   ]
  },
  {
   "cell_type": "code",
   "execution_count": null,
   "id": "55e1b2d1-3f8d-4c36-b0af-e4a485351c8c",
   "metadata": {},
   "outputs": [],
   "source": [
    "while True:\n",
    "    site_name = fablib.get_random_site()\n",
    "    if ( (fablib.resources.get_core_available(site_name) > 1.2*exp_conf['cores']) and\n",
    "        (fablib.resources.get_component_available(site_name, 'SharedNIC-ConnectX-6') > 1.2**exp_conf['nic']) ):\n",
    "        break\n",
    "\n",
    "fablib.show_site(site_name)"
   ]
  },
  {
   "cell_type": "markdown",
   "id": "fbaeb970-a575-4d3b-802b-cd5de4728120",
   "metadata": {},
   "source": [
    "Then we will add hosts and network segments:"
   ]
  },
  {
   "cell_type": "code",
   "execution_count": null,
   "id": "6463bed4-5555-4869-8b19-9bf51f9b73df",
   "metadata": {},
   "outputs": [],
   "source": [
    "# this cell sets up the nodes\n",
    "for n in node_conf:\n",
    "    slice.add_node(name=n['name'], site=site_name, \n",
    "                   cores=n['cores'], \n",
    "                   ram=n['ram'], \n",
    "                   disk=n['disk'], \n",
    "                   image=n['image'])"
   ]
  },
  {
   "cell_type": "code",
   "execution_count": null,
   "id": "1c99acd7-c471-40b2-b3a6-2861a78c19a1",
   "metadata": {},
   "outputs": [],
   "source": [
    "# this cell sets up the network segments\n",
    "for n in net_conf:\n",
    "    ifaces = [slice.get_node(node[\"name\"]).add_component(model=\"NIC_Basic\", \n",
    "                                                 name=n[\"name\"]).get_interfaces()[0] for node in n['nodes'] ]\n",
    "    slice.add_l2network(name=n[\"name\"], type='L2Bridge', interfaces=ifaces)"
   ]
  },
  {
   "cell_type": "markdown",
   "id": "c8673099-a04e-4fef-9847-0454401c5199",
   "metadata": {},
   "source": [
    "The following cell submits our request to the FABRIC site. The output of this cell will update automatically as the status of our request changes.\n",
    "\n",
    "-   While it is being prepared, the “State” of the slice will appear as “Configuring”.\n",
    "-   When it is ready, the “State” of the slice will change to “StableOK”.\n",
    "\n",
    "You may prefer to walk away and come back in a few minutes (for simple slices) or a few tens of minutes (for more complicated slices with many resources)."
   ]
  },
  {
   "cell_type": "code",
   "execution_count": null,
   "id": "9cb2451e-21d5-4410-ade1-962957266a77",
   "metadata": {},
   "outputs": [],
   "source": [
    "slice.submit()"
   ]
  },
  {
   "cell_type": "code",
   "execution_count": null,
   "id": "ed8eda42-f9cc-43e6-ab69-bfdd7d434f1f",
   "metadata": {},
   "outputs": [],
   "source": [
    "slice.get_state()\n",
    "slice.wait_ssh(progress=True)"
   ]
  },
  {
   "cell_type": "markdown",
   "id": "ce56eaf5-a58d-4351-901a-7f7ee6e268c0",
   "metadata": {},
   "source": [
    "### Configure resources\n",
    "\n",
    "Next, we will configure the resources so they are ready to use."
   ]
  },
  {
   "cell_type": "code",
   "execution_count": null,
   "id": "bdfaba02-5910-4e9c-b27c-db87a2617362",
   "metadata": {},
   "outputs": [],
   "source": [
    "slice = fablib.get_slice(name=slice_name)"
   ]
  },
  {
   "cell_type": "code",
   "execution_count": null,
   "id": "1e3da757-5a23-442e-b5c5-d31c7b4221ef",
   "metadata": {},
   "outputs": [],
   "source": [
    "# install packages\n",
    "# this will take a while and will run in background while you do other steps\n",
    "for n in node_conf:\n",
    "    if len(n['packages']):\n",
    "        node = slice.get_node(n['name'])\n",
    "        pkg = \" \".join(n['packages'])\n",
    "        node.execute_thread(\"sudo apt update; sudo apt -y install %s\" % pkg)"
   ]
  },
  {
   "cell_type": "code",
   "execution_count": null,
   "id": "065459e3-4230-498a-a695-2037bd9c35a4",
   "metadata": {},
   "outputs": [],
   "source": [
    "# bring interfaces up and either assign an address (if there is one) or flush address\n",
    "from ipaddress import ip_address, IPv4Address, IPv4Network\n",
    "\n",
    "for net in net_conf:\n",
    "    for n in net['nodes']:\n",
    "        if_name = n['name'] + '-' + net['name'] + '-p1'\n",
    "        iface = slice.get_interface(if_name)\n",
    "        iface.ip_link_up()\n",
    "        if n['addr']:\n",
    "            iface.ip_addr_add(addr=n['addr'], subnet=IPv4Network(net['subnet']))\n",
    "        else:\n",
    "            iface.get_node().execute(\"sudo ip addr flush dev %s\"  % iface.get_device_name())"
   ]
  },
  {
   "cell_type": "code",
   "execution_count": null,
   "id": "d133d3d4-677d-4046-a935-a14f672ff6e4",
   "metadata": {},
   "outputs": [],
   "source": [
    "# prepare a \"hosts\" file that has names and addresses of every node\n",
    "hosts_txt = [ \"%s\\t%s\" % ( n['addr'], n['name'] ) for net in net_conf  for n in net['nodes'] if type(n) is dict and n['addr']]\n",
    "for n in slice.get_nodes():\n",
    "    for h in hosts_txt:\n",
    "        n.execute(\"echo %s | sudo tee -a /etc/hosts\" % h)"
   ]
  },
  {
   "cell_type": "code",
   "execution_count": null,
   "id": "9f7566b1-0634-441c-8ad4-452bb3deadae",
   "metadata": {},
   "outputs": [],
   "source": [
    "# enable IPv4 forwarding on all nodes\n",
    "for n in slice.get_nodes():\n",
    "    n.execute(\"sudo sysctl -w net.ipv4.ip_forward=1\")"
   ]
  },
  {
   "cell_type": "code",
   "execution_count": null,
   "id": "41c784c4-abb3-4eb0-a9a7-f8f2c130bb0d",
   "metadata": {},
   "outputs": [],
   "source": [
    "# set up static routes\n",
    "for rt in route_conf:\n",
    "    for n in rt['nodes']:\n",
    "        slice.get_node(name=n).ip_route_add(subnet=IPv4Network(rt['addr']), gateway=rt['gw'])"
   ]
  },
  {
   "cell_type": "markdown",
   "id": "f5d88588-6f18-4624-b712-7756e14eb5b6",
   "metadata": {},
   "source": [
    "### Extend your slice\n",
    "\n",
    "If you don’t plan to finish an experiment in one day, you can extend your slice. The following cell extends your reservation for 7 days."
   ]
  },
  {
   "cell_type": "code",
   "execution_count": null,
   "id": "7289815c-388a-4ae7-95eb-be8a6e5b19fa",
   "metadata": {},
   "outputs": [],
   "source": [
    "from datetime import datetime\n",
    "from datetime import timezone\n",
    "from datetime import timedelta\n",
    "\n",
    "# Set end date to 7 days from now\n",
    "end_date = (datetime.now(timezone.utc) + timedelta(days=7)).strftime(\"%Y-%m-%d %H:%M:%S %z\")\n",
    "slice.renew(end_date)"
   ]
  },
  {
   "cell_type": "markdown",
   "id": "9fc9a843-b7a4-471f-8fc1-914e83f4e523",
   "metadata": {},
   "source": [
    "### Draw the network topology"
   ]
  },
  {
   "cell_type": "markdown",
   "id": "d3aabc40-655b-406a-90a1-909f0a1af592",
   "metadata": {},
   "source": [
    "The following cell will draw the network topology, for your reference. The interface name and addresses of each experiment interface will be shown on the drawing."
   ]
  },
  {
   "cell_type": "code",
   "execution_count": null,
   "id": "cfb86ff2-761d-43e1-ab0b-65639881efe9",
   "metadata": {},
   "outputs": [],
   "source": [
    "l2_nets = [(n.get_name(), {'color': 'lavender'}) for n in slice.get_l2networks() ]\n",
    "l3_nets = [(n.get_name(), {'color': 'pink'}) for n in slice.get_l3networks() ]\n",
    "hosts   =   [(n.get_name(), {'color': 'lightblue'}) for n in slice.get_nodes()]\n",
    "nodes = l2_nets + l3_nets + hosts\n",
    "ifaces = [iface.toDict() for iface in slice.get_interfaces()]\n",
    "edges = [(iface['network'], iface['node'], \n",
    "          {'label': iface['physical_dev'] + '\\n' + iface['ip_addr'] + '\\n' + iface['mac']}) for iface in ifaces]"
   ]
  },
  {
   "cell_type": "code",
   "execution_count": null,
   "id": "c3600e46-45d3-4c05-b3d0-4ef2e117fe71",
   "metadata": {},
   "outputs": [],
   "source": [
    "import networkx as nx\n",
    "import matplotlib.pyplot as plt\n",
    "plt.figure(figsize=(len(nodes),len(nodes)))\n",
    "G = nx.Graph()\n",
    "G.add_nodes_from(nodes)\n",
    "G.add_edges_from(edges)\n",
    "pos = nx.spring_layout(G)\n",
    "nx.draw(G, pos, node_shape='s',  \n",
    "        node_color=[n[1]['color'] for n in nodes], \n",
    "        node_size=[len(n[0])*400 for n in nodes],  \n",
    "        with_labels=True);\n",
    "nx.draw_networkx_edge_labels(G,pos,\n",
    "                             edge_labels=nx.get_edge_attributes(G,'label'),\n",
    "                             font_color='gray',  font_size=8, rotate=False);"
   ]
  },
  {
   "cell_type": "markdown",
   "id": "5554e763-c4da-4fb9-acf6-a8622fd6ff75",
   "metadata": {},
   "source": [
    "### Log into resources"
   ]
  },
  {
   "cell_type": "markdown",
   "id": "fe0f725f-c74d-4637-8c38-cf05f1c9b0d7",
   "metadata": {},
   "source": [
    "Now, we are finally ready to log in to our resources over SSH! Run the following cells, and observe the table output - you will see an SSH command for each of the resources in your topology."
   ]
  },
  {
   "cell_type": "code",
   "execution_count": null,
   "id": "c425e792-0820-4a83-80a9-635ba53e2ee5",
   "metadata": {},
   "outputs": [],
   "source": [
    "import pandas as pd\n",
    "pd.set_option('display.max_colwidth', None)\n",
    "slice_info = [{'Name': n.get_name(), 'SSH command': n.get_ssh_command()} for n in slice.get_nodes()]\n",
    "pd.DataFrame(slice_info).set_index('Name')"
   ]
  },
  {
   "cell_type": "markdown",
   "id": "d06d89fe-c67b-4203-a616-9d554d39ed01",
   "metadata": {},
   "source": [
    "Now, you can open an SSH session on any of the resources as follows:\n",
    "\n",
    "-   in Jupyter, from the menu bar, use File \\> New \\> Terminal to open a new terminal.\n",
    "-   copy an SSH command from the table, and paste it into the terminal. (Note that each SSH command is a single line, even if the display wraps the text to a second line! When you copy and paste it, paste it all together.)\n",
    "\n",
    "You can repeat this process (open several terminals) to start a session on each resource. Each terminal session will have a tab in the Jupyter environment, so that you can easily switch between them."
   ]
  },
  {
   "cell_type": "markdown",
   "id": "3d7686db-7bb6-4370-ba88-bbae42da80e6",
   "metadata": {},
   "source": [
    "## Setting up nodes\n",
    "Use the SSH commands from the previous cell and open a terminal window for each node. Follow the instructions below to set them up for the lab"
   ]
  },
  {
   "cell_type": "markdown",
   "id": "a7e40084-4455-4c95-9d74-4887f7700ea2",
   "metadata": {},
   "source": [
    "### Prepare the server\n",
    "First, we will set up the “juliet” host as an adaptive video server. Open an SSH session on “juliet”, and run the commands in this section there.\n",
    "\n",
    "At the server, we will set up an HTTP server which will serve the video files to the client. We are going to be using apache2. First confirm that it was installed in the system with:\n",
    "\n",
    "```\n",
    "apache2 -v\n",
    "```\n",
    "\n",
    "If you see a version number, you can proceed. Otherwise install it as follows:\n",
    "```\n",
    "sudo apt update\n",
    "sudo apt install -y apache2\n",
    "```\n",
    "Then, download the video segments and put them in the web server directory:\n",
    "```\n",
    "wget https://nyu.box.com/shared/static/d6btpwf5lqmkqh53b52ynhmfthh2qtby.tgz -O media.tgz\n",
    "sudo tar -v -xzf media.tgz -C /var/www/html/\n",
    "```\n",
    "The web server directory now contains 4-second segments of the \"open\" video clip [Big Buck Bunny](https://peach.blender.org/about/), encoded at different quality levels. The Big Buck Bunny DASH dataset is from:\n",
    "> Stefan Lederer, Christopher Müller, and Christian Timmerer. 2012. Dynamic adaptive streaming over HTTP dataset. In Proceedings of the 3rd Multimedia Systems Conference (MMSys '12). Association for Computing Machinery, New York, NY, USA, 89–94. DOI:https://doi.org/10.1145/2155555.2155570"
   ]
  },
  {
   "cell_type": "markdown",
   "id": "b4890dda-058d-4656-ba95-3fcbeb0a1e58",
   "metadata": {},
   "source": [
    "### Prepare the router\n",
    "Next, we will set up the router. Open an SSH session on “router”, and run the commands in this section there.\n",
    "\n",
    "At the router, we will emulate different network conditions.\n",
    "\n",
    "We will experiment with both a constant data rate, and a variable data rate like that experienced by a mobile user. For the mobile user, we'll use some network traces collected in the New York City metro area. With these traces, the data rate experienced by the DASH client in our experiment will mimic the experience of traveling around NYC on bus, subway, and ferry.\n",
    "\n",
    "The NYC traces are shared from the following paper:\n",
    "\n",
    ">Lifan Mei, Runchen Hu, Houwei Cao, Yong Liu, Zifa Han, Feng Li & Jin Li. (2019, March). Realtime Mobile Bandwidth Prediction using LSTM Neural Networks. In International Conference on Passive and Active Network Measurement. Springer.\n",
    "\n",
    "To download the traces, on the \"router\" node run:\n",
    "```\n",
    "git clone https://github.com/NYU-METS/Main nyc-traces\n",
    "```\n",
    "To extract the trace files from their compressed archive, we will need to install an appropriate utility:\n",
    "```\n",
    "sudo apt update\n",
    "sudo apt install -y unrar-free\n",
    "```\n",
    "Then, run\n",
    "```\n",
    "unrar nyc-traces/Dataset/Dataset_1.rar\n",
    "```\n",
    "We will also download a couple of utility scripts to help us set a constant data rate or vary the data rate on the network. On the \"router\" node, run\n",
    "```\n",
    "wget https://raw.githubusercontent.com/teaching-on-testbeds/adaptive-video/main/rate-vary.sh -O ~/rate-vary.sh\n",
    "```\n",
    "and\n",
    "```\n",
    "wget https://raw.githubusercontent.com/teaching-on-testbeds/adaptive-video/main/rate-set.sh -O ~/rate-set.sh\n",
    "```"
   ]
  },
  {
   "cell_type": "markdown",
   "id": "bd0937b1-ad9d-4de2-8677-40de0492d469",
   "metadata": {},
   "source": [
    "### Prepare the client\n",
    "Finally, we need to prepare the “romeo” host as a video client. Open an SSH session on “romeo”, and run the commands in this section there.\n",
    "\n",
    "Finally, we need to prepare the DASH client.\n",
    "\n",
    "Download the AStream DASH video client on the \"client\" node:\n",
    "```\n",
    "git clone https://github.com/teaching-on-testbeds/AStream\n",
    "```\n",
    "We must install Python3 to run the DASH video client, and we will also install the video encoding utility ffmpeg so that we can reconstruct the video later:\n",
    "```\n",
    "sudo apt update\n",
    "sudo apt install -y python3 ffmpeg\n",
    "```"
   ]
  },
  {
   "cell_type": "markdown",
   "id": "28a7d8a5-c802-4fe8-8254-4d9652cb71da",
   "metadata": {},
   "source": [
    "Now we are ready to run our experiments for the lab! We will do that together in class."
   ]
  },
  {
   "cell_type": "code",
   "execution_count": null,
   "id": "ed7888eb-bb3d-4653-8c69-e1c8a43d6cde",
   "metadata": {},
   "outputs": [],
   "source": []
  }
 ],
 "metadata": {
  "kernelspec": {
   "display_name": "Python 3 (ipykernel)",
   "language": "python",
   "name": "python3"
  },
  "language_info": {
   "codemirror_mode": {
    "name": "ipython",
    "version": 3
   },
   "file_extension": ".py",
   "mimetype": "text/x-python",
   "name": "python",
   "nbconvert_exporter": "python",
   "pygments_lexer": "ipython3",
   "version": "3.11.9"
  }
 },
 "nbformat": 4,
 "nbformat_minor": 5
}
