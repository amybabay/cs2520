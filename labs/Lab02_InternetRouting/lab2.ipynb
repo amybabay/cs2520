{
 "cells": [
  {
   "cell_type": "markdown",
   "id": "b9f260b9",
   "metadata": {},
   "source": [
    "# Lab 2: Internet Routing"
   ]
  },
  {
   "cell_type": "markdown",
   "id": "5099996e",
   "metadata": {},
   "source": [
    "**Credits:** This lab is an edited version of \"A peek into Internet Routing\" by\n",
    "Fraida Fund. See that lab for additional information and resources:\n",
    "[https://witestlab.poly.edu/blog/a-peek-into-internet-routing/](https://witestlab.poly.edu/blog/a-peek-into-internet-routing/)"
   ]
  },
  {
   "cell_type": "markdown",
   "id": "394979eb",
   "metadata": {},
   "source": [
    "## Set up"
   ]
  },
  {
   "cell_type": "markdown",
   "id": "badff0e0",
   "metadata": {},
   "source": [
    "### Import required packages\n",
    "The lab requires the following packages. So, we will import them now."
   ]
  },
  {
   "cell_type": "code",
   "execution_count": null,
   "id": "bff42a51",
   "metadata": {},
   "outputs": [],
   "source": [
    "from fabrictestbed_extensions.fablib.fablib import FablibManager as fablib_manager\n",
    "import pandas as pd"
   ]
  },
  {
   "cell_type": "markdown",
   "id": "59a46016",
   "metadata": {},
   "source": [
    "### Slice Initialization\n",
    "You reserved the required resources in pre-lab. We will set up the relevant objects to work with those resources."
   ]
  },
  {
   "cell_type": "code",
   "execution_count": null,
   "id": "3656f591",
   "metadata": {},
   "outputs": [],
   "source": [
    "fablib = fablib_manager() \n",
    "conf = fablib.show_config()"
   ]
  },
  {
   "cell_type": "code",
   "execution_count": null,
   "id": "27d1a11f",
   "metadata": {},
   "outputs": [],
   "source": [
    "slice_name=\"cs2520-lab2-bgp_\" + fablib.get_bastion_username()"
   ]
  },
  {
   "cell_type": "code",
   "execution_count": null,
   "id": "c2517e9b",
   "metadata": {},
   "outputs": [],
   "source": [
    "try:\n",
    "    slice = fablib.get_slice(slice_name)\n",
    "    print(\"Checked: A slice with the name '%s' already exists.\" % slice_name)\n",
    "except:\n",
    "    print(\"Error: You don't have a slice named %s yet. Please go through 'pre-lab2.ipynb' before proceeding.\" % slice_name)"
   ]
  },
  {
   "cell_type": "markdown",
   "id": "6f710577",
   "metadata": {},
   "source": [
    "### Log into resources\n",
    "In `pre-lab2.ipynb`, you ran the cells under \"Log into resources\" to get the SSH commands that you need to use to access the hosts on FABRIC. We will reuse the same commands. As before, the code in the following cell should give us the relevant SSH commands:"
   ]
  },
  {
   "cell_type": "code",
   "execution_count": null,
   "id": "262970e9",
   "metadata": {},
   "outputs": [],
   "source": [
    "pd.set_option('display.max_colwidth', None)\n",
    "slice_info = [{'Name': n.get_name(), 'SSH command': n.get_ssh_command()} for n in slice.get_nodes()]\n",
    "pd.DataFrame(slice_info).set_index('Name')"
   ]
  },
  {
   "cell_type": "markdown",
   "id": "267e65b6",
   "metadata": {},
   "source": [
    "In the pre-lab notebook, we reserved a slice with four nodes at different locations. We are going to check where each node is located: "
   ]
  },
  {
   "cell_type": "code",
   "execution_count": null,
   "id": "a9192b94",
   "metadata": {},
   "outputs": [],
   "source": [
    "slice.list_nodes()"
   ]
  },
  {
   "cell_type": "markdown",
   "id": "c92c9ef8-5ebc-4724-9951-d07f5d6791ed",
   "metadata": {},
   "source": [
    "**Record your selected sites here.**\n",
    "\n",
    "1. Perlman: \n",
    "2. Floyd: \n",
    "3. Borg: \n",
    "4. Kahn: "
   ]
  },
  {
   "cell_type": "markdown",
   "id": "5f64d78c",
   "metadata": {},
   "source": [
    "## Collect traceroute data\n",
    "\n",
    "### Choose two destinations\n",
    "\n",
    "We will explore the internet routes from each of your nodes to different internet destinations.\n",
    "\n",
    "First, select *2 different publicly reachable internet destinations* (e.g. pitt.edu, ethz.ch, google.com, amazon.com, ...). Note: we will discuss and compare results, so this is most interesting if you don't all pick the same destinations (be creative!).\n",
    "\n",
    "For each destination, find the IP address for that destination using the `dig` command. For example:\n",
    "\n",
    "```\n",
    "dig +short pitt.edu\n",
    "```"
   ]
  },
  {
   "cell_type": "markdown",
   "id": "94a56f98",
   "metadata": {},
   "source": [
    "**Run `dig` for each of your 2 destinations on each of your 4 nodes, and record the results. Do you get the same result each time? If not, can you explain why?**\n",
    "\n",
    "Dig Results: Destination 1 (specify destination here)\n",
    "\n",
    "- Node 1:\n",
    "- Node 2:\n",
    "- Node 3:\n",
    "- Node 4:\n",
    "\n",
    "Dig Results: Destination 2 (specify destination here)\n",
    "\n",
    "- Node 1:\n",
    "- Node 2:\n",
    "- Node 3:\n",
    "- Node 4:"
   ]
  },
  {
   "cell_type": "markdown",
   "id": "73c953fa",
   "metadata": {},
   "source": [
    "### Run `mtr` traceroutes\n",
    "\n",
    "In a terminal ssh'd into one of your GENI nodes, run (replacing `pitt.edu` with one of your chosen destinations):\n",
    "\n",
    "```\n",
    "mtr --aslookup --show-ips -w pitt.edu\n",
    "```\n",
    "\n",
    "In this command:\n",
    "\n",
    "* `--aslookup` tells `mtr` to try to lookup the ASN associated with each router\n",
    "  along the path (based on its IP address)\n",
    "* `--show-ips` tells `mtr` to show the IP address of each router along the\n",
    "  path, in addition to its hostname\n",
    "* `-w` tells `mtr` to show its final report in wide format, including all\n",
    "  available details\n",
    "\n",
    "Here is a sample output from a node in Florida to pitt.edu:\n",
    "\n",
    "![](./images/mtr-FIU-to-pitt.jpg)"
   ]
  },
  {
   "cell_type": "markdown",
   "id": "b1f2cf6e",
   "metadata": {},
   "source": [
    "**Run an `mtr` traceroute for each of your 2 destinations on each of your 4 nodes, and record the results**.\n",
    "\n",
    "mtr Results: Destination 1 (specify destination here)\n",
    "\n",
    "- Node 1:\n",
    "\n",
    "\n",
    "- Node 2:\n",
    "\n",
    "\n",
    "- Node 3:\n",
    "\n",
    "\n",
    "- Node 4:"
   ]
  },
  {
   "cell_type": "markdown",
   "id": "1ebf79e6",
   "metadata": {},
   "source": [
    "## Understanding the Output\n",
    "\n",
    "### Traceroute basics\n",
    "\n",
    "Traceroute (or `mtr`) works by sending probes with specific time-to-live (TTL)\n",
    "values. When a router gets a packet with a TTL of 0, the router drops the\n",
    "packet and returns an \"ICMP TTL Exceeded\" response to the source. Therefore,\n",
    "by sending probes with increasing TTL values, we can map the path between two\n",
    "hosts.\n",
    "\n",
    "Specifically, when we send a packet with TTL 1, the first router on the path\n",
    "will decrement the TTL, see that it has reached 0, drop it, and send an ICMP\n",
    "TTL Exceeded to the source. The source can then note the source address of the\n",
    "ICMP TTL Exceeded to find the first router on the path. It can also measure\n",
    "the time between sending the probe and getting a response to measure the\n",
    "roundtrip time to that router. It can then repeat this with TTL 2 to find the\n",
    "second router, and so on.\n",
    "\n",
    "To get more information about each router on the path, we can also:\n",
    "\n",
    "* use a [reverse DNS lookup](https://en.wikipedia.org/wiki/Reverse_DNS_lookup)\n",
    "  to get the hostname associated with the router's IP address\n",
    "* look the router IP address up in the [Internet Routing\n",
    "  Registry](https://www.radb.net/) to get its AS number\n",
    "\n",
    "### Interpreting `mtr` output\n",
    "\n",
    "Each line in the output above corresponds to one router on the path from the source to the destination.\n",
    "\n",
    "Let's look at the first line:\n",
    "\n",
    "![](./images/mtr-line1.jpg)\n",
    "\n",
    "Here, we see information about the first hop in our path:\n",
    "\n",
    "* the *hop number* is 1\n",
    "* the *AS number* is unknown (shown as AS???)\n",
    "* the router's *hostname* shows as \"_gateway\" (This IP address typically serves as the default gateway or the router's IP address within a private network)\n",
    "* the router's IP address is 10.20.4.1\n",
    "* the loss rate (percent of probes that did not receive a response) is 0.0\n",
    "* the number of probes sent is 10\n",
    "* the last observed RTT is 0.2 ms\n",
    "* the average RTT over all 10 probes is 0.1 ms\n",
    "* the best (shortest) observed RTT is 0.1 ms\n",
    "* the worst observed RTT is 0.2 ms\n",
    "* the standard deviation of RTTs is 0.0\n",
    "\n",
    "Similarly, if we look at line 7 of the output\n",
    "\n",
    "![](./images/mtr-line7.jpg)\n",
    "\n",
    "we see information about the 7th hop in our path:\n",
    "\n",
    "* the *hop number* is 7\n",
    "* the *AS number* is 20080 (This AS is AMPATH (America's Path) which was developed in 2000 as a high performance exchange point in Miami, Florida, United States. AMPATH assists peer based and network research between U.S. and international research and education networks.)\n",
    "* the router's *hostname* is 'et-0-0-1-67.rt05.bb.ampath.net'\n",
    "* the router's IP address is 170.39.8.33\n",
    "* the loss rate (percent of probes that did not receive a response) is 0.0\n",
    "* the number of probes sent is 10\n",
    "* the last observed RTT is 0.8 ms\n",
    "* the average RTT over all 10 probes is 1.4 ms\n",
    "* the best (shortest) observed RTT is 0.8 ms\n",
    "* the worst observed RTT is 6.2 ms\n",
    "* the standard deviation of RTTs is 1.7\n",
    "\n",
    "### Limitations\n",
    "\n",
    "Note that as you saw with hop 1, you may not get all of this information for every hop. \n",
    "If the AS number is listed as `???`. This just means it could not find a record of\n",
    "the ASN for that IP address (which could be also be because the IP address is a private address). `mtr` uses the Internet Routing Registry, and you\n",
    "can verify that there is no record for a IP address by going to the website:\n",
    "[https://www.radb.net](https://www.radb.net).\n",
    "\n",
    "As another example, see hop 6:\n",
    "\n",
    "![](./images/mtr-line6.jpg)\n",
    "\n",
    "Hop 6 has the AS number and an IP address but no host name.\n",
    "\n",
    "In some cases, you can infer the AS from the hostname, or the other way around. In this case, we have the AS number AS62. This is from a data center company 'CyrusOne'\n",
    "([AS62](https://bgp.he.net/AS62)).\n",
    "\n",
    "Some lines may have no information, like the following at hop 3:\n",
    "\n",
    "![](./images/mtr-line3.jpg)\n",
    "\n",
    "\n",
    "This just means the router did not send back an ICMP response (often because it\n",
    "is configured not to send ICMP TTL exceeded messages).\n",
    "\n",
    "Normally, the final line of the output will be the destination host, but this\n",
    "may also be missing if the destination is configured not to send ICMP TTL\n",
    "exceeded messages."
   ]
  },
  {
   "cell_type": "markdown",
   "id": "cddce786",
   "metadata": {},
   "source": [
    "## Analyze routes\n",
    "\n",
    "Select one traceroute output (for one node and one destination) to start.\n",
    "\n",
    "### Identify autonomous systems\n",
    "\n",
    "For each router on the path, find the organization that manages its AS\n",
    "using the `whois` command. For example (replace `AS4130` with one of your\n",
    "ASes):\n",
    "\n",
    "```\n",
    "whois AS4130\n",
    "```\n",
    "\n",
    "**Record the ASName and OrgName for each router in your selected traceroute.\n",
    "(note that this may not be possible for every router)**\n",
    "\n",
    "Next, select one or more ASes from your selected path, and look it up in the\n",
    "Hurricane Electric BGP toolkit at: [https://bgp.he.net/](https://bgp.he.net/).\n",
    "Put the ASN into the search box and click \"Search\".\n",
    "\n",
    "The \"AS Info\" tab shows basic information about the AS, the \"Prefixes v4\" tab\n",
    "shows IPv4 address blocks that this AS originates, and the \"Peers v4\" tab shows\n",
    "other ASes that this AS peers with."
   ]
  },
  {
   "cell_type": "markdown",
   "id": "d4ae6a8a",
   "metadata": {},
   "source": [
    "**How many prefixes does your chosen AS originate? List a few of them. Does\n",
    "your chosen AS have signed ROAs for its prefixes? What are some of the other\n",
    "ASes it peers with? Record your responses here .**\n",
    "\n",
    "\n",
    "..."
   ]
  },
  {
   "cell_type": "markdown",
   "id": "d419fd96",
   "metadata": {},
   "source": [
    "### Analyze geographic path\n",
    "\n",
    "For each router on the path, list any location details you can infer from the router hostnames.\n",
    "\n",
    "Routers are often named using airport codes or city name abbreviations to\n",
    "indicate where they are located.\n",
    "\n",
    "For example, the router at hop 16 in my sample\n",
    "traceroute `vl713.fq-core-2.gw.pitt.edu (136.142.2.170)` is\n",
    "probably located in Pittsburgh, while the router at hop 12\n",
    "`fourhundredge-0-0-0-1.4079.core1.phil.net.internet2.edu (163.253.1.137)` is probably located\n",
    "in Philadelphia.\n",
    "\n",
    "For more examples, see the following section:"
   ]
  },
  {
   "cell_type": "markdown",
   "id": "e73d55f9",
   "metadata": {},
   "source": [
    "#### Inferring geographical location\n",
    "One of the most common naming conventions for routers is the use of geographical location in the router hostname! You'll often see airport codes or abbreviated city names within a router hostname. Once you geolocate the routers along the path, you can identify the geographical route a packet takes en route to its destination.\n",
    "\n",
    "Here are some examples of router hostnames including geographical locations in the US:\n",
    "\n",
    "![](./images/geo-locations-table1.jpg)\n",
    "![](./images/geo-locations-table2.jpg)\n",
    "\n",
    "\n",
    "Of course, routers may be located in any city, not only those in the table above - here is an example of a route that goes through London (UK), Paris (France), Geneva (Switzerland, a.k.a. CH), Milan (Italy), and Athens (Greece):\n",
    "\n",
    "```\n",
    "12 ae6.mx1.lon2.uk.geant.net (62.40.98.37) 87.687 ms\n",
    "13 ae5.mx1.par.fr.geant.net (62.40.98.179) 94.053 ms\n",
    "14 ae5.mx1.gen.ch.geant.net (62.40.98.182) 101.531 ms\n",
    "15 ae6.mx1.mil2.it.geant.net (62.40.98.81) 108.380 ms\n",
    "16 ae3.mx2.ath.gr.geant.net (62.40.98.151) 130.760 ms\n",
    "```\n",
    "\n",
    "Somtimes, the location may be specified even more exactly than just a city - for example, **de-cix-new-york.as13335.net** is located at the _DE-CIX exchange point_ in New York, and **equinix.sjc.datapipe.net** is at the Equinix exchange point in San Jose. (Routers located at an IXP often have the ASN in their name - this makes it easier to debug peering problems, when you can see at a glance what AS the router belongs to.)"
   ]
  },
  {
   "cell_type": "markdown",
   "id": "84ae20ca",
   "metadata": {},
   "source": [
    "**Record any geographic or other details you can learn about your chosen path.**"
   ]
  }
 ],
 "metadata": {
  "kernelspec": {
   "display_name": "Python 3",
   "language": "python",
   "name": "python3"
  },
  "language_info": {
   "codemirror_mode": {
    "name": "ipython",
    "version": 3
   },
   "file_extension": ".py",
   "mimetype": "text/x-python",
   "name": "python",
   "nbconvert_exporter": "python",
   "pygments_lexer": "ipython3",
   "version": "3.12.7"
  }
 },
 "nbformat": 4,
 "nbformat_minor": 5
}
