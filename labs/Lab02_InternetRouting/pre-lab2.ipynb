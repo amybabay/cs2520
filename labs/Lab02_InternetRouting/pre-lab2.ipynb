{
 "cells": [
  {
   "cell_type": "markdown",
   "id": "5bc402fb-9ec3-49db-89d3-a2d5e97a8b27",
   "metadata": {},
   "source": [
    "# Pre-Lab 2: Internet Routing"
   ]
  },
  {
   "cell_type": "markdown",
   "id": "e4140df0-57f8-4fe0-814e-737e15f16a8a",
   "metadata": {},
   "source": [
    "### Configure environment"
   ]
  },
  {
   "cell_type": "code",
   "execution_count": null,
   "id": "ed7df9ef-64a1-4b6b-9f24-03ffc5aacf27",
   "metadata": {},
   "outputs": [],
   "source": [
    "from fabrictestbed_extensions.fablib.fablib import FablibManager as fablib_manager\n",
    "fablib = fablib_manager() \n",
    "conf = fablib.show_config()"
   ]
  },
  {
   "cell_type": "markdown",
   "id": "34b4a38a-43fc-4d5a-b239-edbe68aadd24",
   "metadata": {},
   "source": [
    "### Define configuration for this experiment (two hosts and router in line topology)"
   ]
  },
  {
   "cell_type": "code",
   "execution_count": null,
   "id": "ca211927-1268-44d2-b63c-602e1d4cd03c",
   "metadata": {},
   "outputs": [],
   "source": [
    "slice_name=\"cs2520-lab2-bgp_\" + fablib.get_bastion_username()\n",
    "\n",
    "node_conf = [\n",
    " {'name': \"perlman\",   'cores': 1, 'ram': 4, 'disk': 10, 'image': 'default_ubuntu_22', 'packages': ['whois']},\n",
    " {'name': \"floyd\",   'cores': 1, 'ram': 4, 'disk': 10, 'image': 'default_ubuntu_22', 'packages': ['whois']},\n",
    " {'name': \"borg\",   'cores': 1, 'ram': 4, 'disk': 10, 'image': 'default_ubuntu_22', 'packages': ['whois']},\n",
    " {'name': \"kahn\",   'cores': 1, 'ram': 4, 'disk': 10, 'image': 'default_ubuntu_22', 'packages': ['whois']},\n",
    "]"
   ]
  },
  {
   "cell_type": "markdown",
   "id": "6d911fe4-b0e5-4175-964f-fedf219db7d7",
   "metadata": {},
   "source": [
    "### Reserve resources\n",
    "\n",
    "Now, we are ready to reserve resources!"
   ]
  },
  {
   "cell_type": "markdown",
   "id": "c382d34e-4b12-469f-b6f5-27270bf74007",
   "metadata": {},
   "source": [
    "First, make sure you don’t already have a slice with this name:"
   ]
  },
  {
   "cell_type": "code",
   "execution_count": null,
   "id": "9fe7f667-aea0-46ed-b49c-ab18bf7df04f",
   "metadata": {},
   "outputs": [],
   "source": [
    "try:\n",
    "    slice = fablib.get_slice(slice_name)\n",
    "    print(\"You already have a slice by this name!\")\n",
    "    print(\"If you previously reserved resources, skip to the 'log in to resources' section.\")\n",
    "except:\n",
    "    print(\"You don't have a slice named %s yet.\" % slice_name)\n",
    "    print(\"Continue to the next step to make one.\")\n",
    "    slice = fablib.new_slice(name=slice_name)"
   ]
  },
  {
   "cell_type": "markdown",
   "id": "0dcb55c5-f6ea-46b8-bf70-948133e7b75e",
   "metadata": {},
   "source": [
    "We will reserve resources for our experiment at the four random, geographically spread-apart, sites:"
   ]
  },
  {
   "cell_type": "code",
   "execution_count": null,
   "id": "ab0a80ca-9e60-4257-907d-a89505ba718a",
   "metadata": {},
   "outputs": [],
   "source": [
    "import random\n",
    "\n",
    "europe_sites_list = ['AMST', 'CERN', 'BRIST']\n",
    "pacific_sites_list = ['HAWI', 'TOKY']\n",
    "non_contUS_sites = europe_sites_list + pacific_sites_list\n",
    "\n",
    "# Get two sites in different geographic locations, one west of St. Louis, and one east of St. Louis\n",
    "st_louis_lat_long=(32.773081, -96.797448)\n",
    "while True:\n",
    "    west_site = fablib.get_random_site(filter_function=lambda x: x['nic_basic_available'] > 0 and x['location'][1] < st_louis_lat_long[1])                                                                                                                                                                                                                           \n",
    "    if west_site not in non_contUS_sites:\n",
    "        break\n",
    "while True:\n",
    "    east_site = fablib.get_random_site(filter_function=lambda x: x['nic_basic_available'] > 0 and x['location'][1] > st_louis_lat_long[1])                                                                                                                                                                                                                           \n",
    "    if east_site not in non_contUS_sites:\n",
    "        break\n",
    "        \n",
    "# Get one site in Europe and choose one from either University of Tokyo or University of Hawaii\n",
    "europe_site = random.choice(europe_sites_list)\n",
    "pacific_site = random.choice(pacific_sites_list)\n",
    "\n",
    "print(f\"west_site: {west_site}\")\n",
    "print(f\"east_site: {east_site}\")\n",
    "print(f\"europe_site: {europe_site}\")\n",
    "print(f\"pacific_site: {pacific_site}\")"
   ]
  },
  {
   "cell_type": "markdown",
   "id": "0478a351-42cd-4e8f-bd74-f9c184284f51",
   "metadata": {},
   "source": [
    "Then we will add hosts and network segments:"
   ]
  },
  {
   "cell_type": "code",
   "execution_count": null,
   "id": "5b118bed-c683-44ec-b9a4-c7323b620e9c",
   "metadata": {},
   "outputs": [],
   "source": [
    "# this cell sets up the nodes\n",
    "nodes_w_sites_names = zip([west_site, east_site, europe_site, pacific_site], node_conf)\n",
    "for this_site_name, n in nodes_w_sites_names:\n",
    "    slice.add_node(name=n['name'], site=this_site_name, \n",
    "                   cores=n['cores'], \n",
    "                   ram=n['ram'], \n",
    "                   disk=n['disk'], \n",
    "                   image=n['image'])"
   ]
  },
  {
   "cell_type": "markdown",
   "id": "255361b4-2232-4916-8bf1-e5c81cd232b6",
   "metadata": {},
   "source": [
    "The following cell submits our request to the FABRIC site. The output of this cell will update automatically as the status of our request changes.\n",
    "\n",
    "-   While it is being prepared, the “State” of the slice will appear as “Configuring”.\n",
    "-   When it is ready, the “State” of the slice will change to “StableOK”.\n",
    "\n",
    "You may prefer to walk away and come back in a few minutes (for simple slices) or a few tens of minutes (for more complicated slices with many resources)."
   ]
  },
  {
   "cell_type": "code",
   "execution_count": null,
   "id": "a77cd160-36f8-4b69-82a2-b623b5d55e10",
   "metadata": {},
   "outputs": [],
   "source": [
    "slice.submit()"
   ]
  },
  {
   "cell_type": "code",
   "execution_count": null,
   "id": "b3ba496f-27de-4d47-927b-cf690f566db8",
   "metadata": {},
   "outputs": [],
   "source": [
    "slice.get_state()\n",
    "slice.wait_ssh(progress=True)"
   ]
  },
  {
   "cell_type": "markdown",
   "id": "f7d66220-9da0-4592-bc44-5b52ffac23ee",
   "metadata": {},
   "source": [
    "### Configure resources\n",
    "\n",
    "Next, we will configure the resources so they are ready to use."
   ]
  },
  {
   "cell_type": "code",
   "execution_count": null,
   "id": "d55e3ded-da0d-4719-a315-5e315dc55687",
   "metadata": {},
   "outputs": [],
   "source": [
    "slice = fablib.get_slice(name=slice_name)"
   ]
  },
  {
   "cell_type": "code",
   "execution_count": null,
   "id": "abf386ef-6173-4beb-9705-d7b97d7af8ee",
   "metadata": {},
   "outputs": [],
   "source": [
    "# install packages\n",
    "# this will take a while and will run in background while you do other steps\n",
    "for n in node_conf:\n",
    "    if len(n['packages']):\n",
    "        node = slice.get_node(n['name'])\n",
    "        pkg = \" \".join(n['packages'])\n",
    "        node.execute_thread(\"sudo apt update; sudo DEBIAN_FRONTEND=noninteractive apt -y install %s\" % pkg)"
   ]
  },
  {
   "cell_type": "code",
   "execution_count": null,
   "id": "2a52bd46-1488-4d65-9e65-b9f4f6356e99",
   "metadata": {},
   "outputs": [],
   "source": [
    "# make sure all interfaces are brought up\n",
    "for iface in slice.get_interfaces():\n",
    "    iface.ip_link_up()"
   ]
  },
  {
   "cell_type": "code",
   "execution_count": null,
   "id": "ee513a30-2f31-4174-833a-8942db60d628",
   "metadata": {},
   "outputs": [],
   "source": [
    "# turn off segmentation offload on interfaces\n",
    "for iface in slice.get_interfaces():\n",
    "    iface_name = iface.get_device_name()\n",
    "    n = iface.get_node()\n",
    "    offloads = [\"gro\", \"lro\", \"gso\", \"tso\"]\n",
    "    for offload in offloads:\n",
    "        n.execute(\"sudo ethtool -K %s %s off\" % (iface_name, offload))"
   ]
  },
  {
   "cell_type": "markdown",
   "id": "51056f07-13a5-4113-afd8-64ea106c9bde",
   "metadata": {},
   "source": [
    "### Draw the network topology"
   ]
  },
  {
   "cell_type": "markdown",
   "id": "059701c1-2c51-4f90-b77f-70eabdcf172b",
   "metadata": {},
   "source": [
    "The following cell will draw the network topology, for your reference. The interface name and addresses of each experiment interface will be shown on the drawing."
   ]
  },
  {
   "cell_type": "code",
   "execution_count": null,
   "id": "0e0b2bf7-b1e7-47bb-be32-fe375cbc8913",
   "metadata": {},
   "outputs": [],
   "source": [
    "l2_nets = [(n.get_name(), {'color': 'lavender'}) for n in slice.get_l2networks() ]\n",
    "l3_nets = [(n.get_name(), {'color': 'pink'}) for n in slice.get_l3networks() ]\n",
    "hosts   =   [(n.get_name(), {'color': 'lightblue'}) for n in slice.get_nodes()]\n",
    "nodes = l2_nets + l3_nets + hosts\n",
    "ifaces = [iface.toDict() for iface in slice.get_interfaces()]\n",
    "edges = [(iface['network'], iface['node'], \n",
    "          {'label': iface['physical_dev'] + '\\n' + iface['ip_addr'] + '\\n' + iface['mac']}) for iface in ifaces]"
   ]
  },
  {
   "cell_type": "code",
   "execution_count": null,
   "id": "153b061f-b899-4239-9b6a-d95332548c28",
   "metadata": {},
   "outputs": [],
   "source": [
    "import networkx as nx\n",
    "import matplotlib.pyplot as plt\n",
    "plt.figure(figsize=(len(nodes),len(nodes)))\n",
    "G = nx.Graph()\n",
    "G.add_nodes_from(nodes)\n",
    "G.add_edges_from(edges)\n",
    "pos = nx.spring_layout(G)\n",
    "nx.draw(G, pos, node_shape='s',  \n",
    "        node_color=[n[1]['color'] for n in nodes], \n",
    "        node_size=[len(n[0])*400 for n in nodes],  \n",
    "        with_labels=True);\n",
    "nx.draw_networkx_edge_labels(G,pos,\n",
    "                             edge_labels=nx.get_edge_attributes(G,'label'),\n",
    "                             font_color='gray',  font_size=8, rotate=False);"
   ]
  },
  {
   "cell_type": "markdown",
   "id": "ad33b98f-7511-4e15-9623-97de2c76c343",
   "metadata": {},
   "source": [
    "### Log into resources"
   ]
  },
  {
   "cell_type": "markdown",
   "id": "81a450de-1d78-4f4a-898d-4768428f90ea",
   "metadata": {},
   "source": [
    "Now, we are finally ready to log in to our resources over SSH! Run the following cells, and observe the table output - you will see an SSH command for each of the resources in your topology."
   ]
  },
  {
   "cell_type": "code",
   "execution_count": null,
   "id": "84cf9ac7-898f-47e6-b2f2-0c5ea0b1ca1a",
   "metadata": {},
   "outputs": [],
   "source": [
    "import pandas as pd\n",
    "pd.set_option('display.max_colwidth', None)\n",
    "slice_info = [{'Name': n.get_name(), 'SSH command': n.get_ssh_command()} for n in slice.get_nodes()]\n",
    "pd.DataFrame(slice_info).set_index('Name')"
   ]
  },
  {
   "cell_type": "markdown",
   "id": "54e55322-e9ca-4293-9564-b52e3fe1e37e",
   "metadata": {},
   "source": [
    "Now, you can open an SSH session on any of the resources as follows:\n",
    "\n",
    "-   in Jupyter, from the menu bar, use File \\> New \\> Terminal to open a new terminal.\n",
    "-   copy an SSH command from the table, and paste it into the terminal. (Note that each SSH command is a single line, even if the display wraps the text to a second line! When you copy and paste it, paste it all together.)\n",
    "\n",
    "You can repeat this process (open several terminals) to start a session on each resource. Each terminal session will have a tab in the Jupyter environment, so that you can easily switch between them."
   ]
  },
  {
   "cell_type": "markdown",
   "id": "2bcc7f4b",
   "metadata": {},
   "source": [
    "### Extend your slice\n",
    "\n",
    "The following cell extends your reservation for 3 days."
   ]
  },
  {
   "cell_type": "code",
   "execution_count": null,
   "id": "2bdbb9f2",
   "metadata": {},
   "outputs": [],
   "source": [
    "from datetime import datetime\n",
    "from datetime import timezone\n",
    "from datetime import timedelta\n",
    "\n",
    "# Set end date to 3 days from now\n",
    "end_date = (datetime.now(timezone.utc) + timedelta(days=3)).strftime(\"%Y-%m-%d %H:%M:%S %z\")\n",
    "slice.renew(end_date)"
   ]
  },
  {
   "cell_type": "markdown",
   "id": "5050577c",
   "metadata": {},
   "source": [
    "Confirm the new end time of your slice in the output of the following cell:"
   ]
  },
  {
   "cell_type": "code",
   "execution_count": null,
   "id": "e4f51809",
   "metadata": {},
   "outputs": [],
   "source": [
    "slice.update()\n",
    "_ = slice.show()"
   ]
  },
  {
   "cell_type": "markdown",
   "id": "0f843c50",
   "metadata": {},
   "source": [
    "If you need more time, you can extend your slice again anytime before these 3 days have elapsed, ."
   ]
  },
  {
   "cell_type": "markdown",
   "id": "628b6c6a",
   "metadata": {},
   "source": [
    "### Acknowledgment\n",
    "Adapted from [Faida Fund's](https://witestlab.poly.edu/blog/a-peek-into-internet-routing/)'s experiments."
   ]
  }
 ],
 "metadata": {
  "kernelspec": {
   "display_name": "Python 3 (ipykernel)",
   "language": "python",
   "name": "python3"
  },
  "language_info": {
   "codemirror_mode": {
    "name": "ipython",
    "version": 3
   },
   "file_extension": ".py",
   "mimetype": "text/x-python",
   "name": "python",
   "nbconvert_exporter": "python",
   "pygments_lexer": "ipython3",
   "version": "3.11.9"
  }
 },
 "nbformat": 4,
 "nbformat_minor": 5
}
